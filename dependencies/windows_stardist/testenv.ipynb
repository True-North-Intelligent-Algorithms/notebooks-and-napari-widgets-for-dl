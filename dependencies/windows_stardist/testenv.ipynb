{
 "cells": [
  {
   "cell_type": "markdown",
   "metadata": {},
   "source": [
    "# Simple Stardist Napari workflow to test if libraries installed properly "
   ]
  },
  {
   "cell_type": "code",
   "execution_count": 7,
   "metadata": {},
   "outputs": [
    {
     "name": "stdout",
     "output_type": "stream",
     "text": [
      "Found model '2D_versatile_fluo' for 'StarDist2D'.\n",
      "Loading network weights from 'weights_best.h5'.\n",
      "Loading thresholds from 'thresholds.json'.\n",
      "Using default values: prob_thresh=0.479071, nms_thresh=0.3.\n"
     ]
    },
    {
     "name": "stderr",
     "output_type": "stream",
     "text": [
      "base.py (395): Predicting on non-float input... ( forgot to normalize? )\n"
     ]
    }
   ],
   "source": [
    "import napari\n",
    "from stardist.models import StarDist2D\n",
    "from skimage import data\n",
    "# Load a test image of blobs\n",
    "image = data.binary_blobs(length=256, volume_fraction=0.1, n_dim=2)\n",
    "\n",
    "model = StarDist2D.from_pretrained('2D_versatile_fluo')\n",
    "\n",
    "# Apply the StarDist model to the test image\n",
    "labels, _ = model.predict_instances(image)\n",
    "\n",
    "# Create a napari viewer and add the original image and the labels\n",
    "viewer = napari.Viewer()\n",
    "viewer.add_image(image, name='Test Image')\n",
    "viewer.add_labels(labels, name='StarDist Labels')\n",
    "\n",
    "# Start the napari event loop\n",
    "napari.run()"
   ]
  },
  {
   "cell_type": "code",
   "execution_count": null,
   "metadata": {},
   "outputs": [],
   "source": []
  }
 ],
 "metadata": {
  "language_info": {
   "name": "python"
  }
 },
 "nbformat": 4,
 "nbformat_minor": 2
}
