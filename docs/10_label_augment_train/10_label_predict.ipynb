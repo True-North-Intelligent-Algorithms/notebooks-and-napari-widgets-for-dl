{
 "cells": [
  {
   "cell_type": "markdown",
   "metadata": {},
   "source": [
    "## Explore and label data\n",
    "\n",
    "This notebook uses the ```napari-easy-augment-batch-dl``` widget to explore and label the data.  If we have a model trained we can also predict using that model. "
   ]
  },
  {
   "cell_type": "code",
   "execution_count": null,
   "metadata": {},
   "outputs": [],
   "source": [
    "import napari\n",
    "viewer = napari.Viewer()\n",
    "\n",
    "import os\n",
    "import numpy as np\n",
    "import napari\n",
    "from napari_easy_augment_batch_dl import easy_augment_batch_dl\n",
    "\n",
    "# import the frameworks you want to use.  As part of the import the framework wil be registered\n",
    "# if it calls the BaseFramework.register_framework() method\n",
    "try:\n",
    "    from napari_easy_augment_batch_dl.frameworks.pytorch_semantic_framework import PytorchSemanticFramework\n",
    "except:\n",
    "    print('PytorchSemanticFramework not loaded')\n",
    "try:\n",
    "    from napari_easy_augment_batch_dl.frameworks.cellpose_instance_framework import CellPoseInstanceFramework\n",
    "except:\n",
    "    print('CellPoseInstanceFramework not loaded')\n",
    "try:\n",
    "    from napari_easy_augment_batch_dl.frameworks.stardist_instance_framework import StardistInstanceFramework\n",
    "except:\n",
    "    print('StardistInstanceFramework not loaded')"
   ]
  },
  {
   "cell_type": "markdown",
   "metadata": {},
   "source": [
    "## Label the Image with a Napari widget\n",
    "\n",
    "Here we call the ```napari-easy-augment-batch-dl``` widget in ```label_only``` mode so we can label the images.   Optionally if a model has already been trained we can pass it to the Widget.  Then we can make predictions and correct them. "
   ]
  },
  {
   "cell_type": "code",
   "execution_count": null,
   "metadata": {},
   "outputs": [],
   "source": [
    "\n",
    "\n",
    "batch_dl = easy_augment_batch_dl.NapariEasyAugmentBatchDL(viewer, label_only = False)\n",
    "\n",
    "viewer.window.add_dock_widget(\n",
    "    batch_dl\n",
    ")\n",
    "\n",
    "data_path = r'../../data'\n",
    "parent_path = os.path.join(data_path, 'ladybugs1')\n",
    "model_path = os.path.join(parent_path, 'models')\n",
    "\n",
    "batch_dl.load_image_directory(parent_path)\n",
    "\n",
    "model_name = None\n",
    "model_name = 'stardist_for_ladybugs'\n",
    "#model_name = 'cellpose_for_ladybugs'\n",
    "\n",
    "\n",
    "if model_name == 'stardist_for_ladybugs':\n",
    "    # set the drop down to the StardistInstanceFramework\n",
    "    batch_dl.network_architecture_drop_down.setCurrentText(StardistInstanceFramework.descriptor)\n",
    "\n",
    "    # get the stardist widget\n",
    "    widget = batch_dl.deep_learning_widgets[StardistInstanceFramework.descriptor]\n",
    "\n",
    "    # load model\n",
    "    widget.load_model_from_path(os.path.join(model_path, model_name))\n",
    "\n",
    "elif model_name == 'cellpose_for_ladybugs':\n",
    "    # set the drop down to the CellPoseInstanceFramework\n",
    "    batch_dl.network_architecture_drop_down.setCurrentText(CellPoseInstanceFramework.descriptor)\n",
    "    \n",
    "    # get the cellpose widget\n",
    "    widget = batch_dl.deep_learning_widgets[CellPoseInstanceFramework.descriptor]\n",
    "    \n",
    "    # load model\n",
    "    widget.load_model_from_path(os.path.join(model_path, model_name))\n",
    "\n",
    "    # get the framework object\n",
    "    framework = batch_dl.deep_learning_project.frameworks[CellPoseInstanceFramework.descriptor]\n",
    "\n",
    "    # set the parameters for the cellpose framework\n",
    "    framework.prob_thresh = -1\n",
    "    framework.flow_thresh = 0.4\n",
    "    framework.chan_segment = 0 \n",
    "    framework.chan2 = 1\n",
    "\n",
    "    # sync parameters on the widget after this we should see the widget in Napari synced with the parameters we set on the framework\n",
    "    widget.sync_with_framework()\n",
    "   "
   ]
  },
  {
   "cell_type": "code",
   "execution_count": null,
   "metadata": {},
   "outputs": [],
   "source": []
  }
 ],
 "metadata": {
  "kernelspec": {
   "display_name": "easy_augment_stardist_085",
   "language": "python",
   "name": "python3"
  },
  "language_info": {
   "codemirror_mode": {
    "name": "ipython",
    "version": 3
   },
   "file_extension": ".py",
   "mimetype": "text/x-python",
   "name": "python",
   "nbconvert_exporter": "python",
   "pygments_lexer": "ipython3",
   "version": "3.11.9"
  }
 },
 "nbformat": 4,
 "nbformat_minor": 2
}
