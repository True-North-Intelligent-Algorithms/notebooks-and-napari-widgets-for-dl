{
 "cells": [
  {
   "cell_type": "markdown",
   "metadata": {},
   "source": [
    "## Explore Data\n",
    "\n",
    "This notebook uses the ```napari-easy-augment-batch-dl``` widget to explore and label the data.  If we have a model trained we can also predict using that model. "
   ]
  },
  {
   "cell_type": "code",
   "execution_count": 1,
   "metadata": {},
   "outputs": [
    {
     "name": "stderr",
     "output_type": "stream",
     "text": [
      "c:\\Users\\bnort\\miniconda3\\envs\\pytorch_and_SAM3\\lib\\site-packages\\tqdm\\auto.py:21: TqdmWarning: IProgress not found. Please update jupyter and ipywidgets. See https://ipywidgets.readthedocs.io/en/stable/user_install.html\n",
      "  from .autonotebook import tqdm as notebook_tqdm\n"
     ]
    }
   ],
   "source": [
    "import os\n",
    "import numpy as np\n",
    "import napari\n",
    "from napari_easy_augment_batch_dl import easy_augment_batch_dl"
   ]
  },
  {
   "cell_type": "markdown",
   "metadata": {},
   "source": [
    "## Label the Image with a Napari widget\n",
    "\n",
    "Here we call the ```napari-easy-augment-batch-dl``` widget in ```label_only``` mode so we can label the images.   Optionally if a model has already been trained we can pass it to the Widget.  Then we can make predictions and correct them. "
   ]
  },
  {
   "cell_type": "code",
   "execution_count": 4,
   "metadata": {},
   "outputs": [
    {
     "name": "stdout",
     "output_type": "stream",
     "text": [
      "VIT checkpoint loaded successfully\n",
      "found class  PytorchSemanticModel\n",
      "found class  CellPoseInstanceModel\n",
      "creating new log file\n",
      "2024-10-25 06:30:11,407 [INFO] WRITING LOG OUTPUT TO C:\\Users\\bnort\\.cellpose\\run.log\n",
      "2024-10-25 06:30:11,408 [INFO] \n",
      "cellpose version: \t3.0.9 \n",
      "platform:       \twin32 \n",
      "python version: \t3.10.14 \n",
      "torch version:  \t2.2.2+cu118\n",
      "found class  MobileSAMModel\n",
      "found class  YoloSAMModel\n",
      "2024-10-25 06:30:13,111 [INFO] ** TORCH CUDA version installed and working. **\n",
      "2024-10-25 06:30:13,112 [INFO] >>>> using GPU\n",
      "2024-10-25 06:30:13,490 [INFO] >>>> loading model C:\\Users\\bnort\\work\\ImageJ2022\\tnia\\notebooks-and-napari-widgets-for-dl\\data\\ladybugs1\\models\\cellpose_for_ladybugs\n",
      "2024-10-25 06:30:13,655 [INFO] >>>> model diam_mean =  30.000 (ROIs rescaled to this size during training)\n",
      "2024-10-25 06:30:13,656 [INFO] >>>> model diam_labels =  34.060 (mean diameter of training ROIs)\n"
     ]
    }
   ],
   "source": [
    "\n",
    "viewer = napari.Viewer()\n",
    "\n",
    "batch_dl = easy_augment_batch_dl.NapariEasyAugmentBatchDL(viewer, label_only = True)\n",
    "\n",
    "viewer.window.add_dock_widget(\n",
    "    batch_dl\n",
    ")\n",
    "\n",
    "data_path = r'C:\\Users\\bnort\\work\\ImageJ2022\\tnia\\notebooks-and-napari-widgets-for-dl\\data'\n",
    "#data_path = r'/home/bnorthan/code/i2k/tnia/notebooks-and-napari-widgets-for-dl/data'\n",
    "parent_path = os.path.join(data_path, 'ladybugs1')\n",
    "model_path = os.path.join(parent_path, 'models')\n",
    "\n",
    "batch_dl.load_image_directory(parent_path)\n",
    "\n",
    "model_name = None\n",
    "#model_name = 'stardist_for_ladybugs'\n",
    "#model_name = 'cellpose_for_ladybugs'\n",
    "\n",
    "\n",
    "if model_name is 'stardist_for_ladybugs':\n",
    "    model_type = \"Stardist Model\"\n",
    "    batch_dl.network_architecture_drop_down.setCurrentText(model_type)\n",
    "    batch_dl.deep_learning_project.set_pretrained_model(os.path.join(model_path, model_name), model_type)\n",
    "elif model_name is 'cellpose_for_ladybugs':\n",
    "    model_type = \"CellPose Instance Model\"\n",
    "    batch_dl.network_architecture_drop_down.setCurrentText(model_type)\n",
    "    batch_dl.deep_learning_project.set_pretrained_model(os.path.join(model_path, model_name), model_type)\n",
    "\n",
    "    \n",
    "    model = batch_dl.deep_learning_project.models[model_type]\n",
    "    model.prob_thresh = -1\n",
    "    model.flow_thresh = 0.4\n",
    "    model.chan_segment = 0 \n",
    "    model.chan2 = 1\n",
    "\n",
    "    widget = batch_dl.param_widgets[model_type]\n",
    "    widget.sync_with_model()\n"
   ]
  },
  {
   "cell_type": "code",
   "execution_count": null,
   "metadata": {},
   "outputs": [],
   "source": []
  }
 ],
 "metadata": {
  "kernelspec": {
   "display_name": "pytorch_and_SAM3",
   "language": "python",
   "name": "python3"
  },
  "language_info": {
   "codemirror_mode": {
    "name": "ipython",
    "version": 3
   },
   "file_extension": ".py",
   "mimetype": "text/x-python",
   "name": "python",
   "nbconvert_exporter": "python",
   "pygments_lexer": "ipython3",
   "version": "3.10.14"
  }
 },
 "nbformat": 4,
 "nbformat_minor": 2
}
