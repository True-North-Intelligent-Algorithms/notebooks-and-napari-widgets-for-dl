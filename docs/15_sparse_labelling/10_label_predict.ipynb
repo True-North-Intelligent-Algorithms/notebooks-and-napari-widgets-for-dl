{
 "cells": [
  {
   "cell_type": "markdown",
   "metadata": {},
   "source": [
    "## Explore the 'sparse labels' Data\n",
    "\n",
    "This notebook uses the ```napari-easy-augment-batch-dl``` widget to explore and label the data.  We point the plugin to the 'ladybugs_sparse' directory which contains 3 highly clustered lady bug images, and we use the 'ladybug_sparse' model which has been pretrained on the sparse labels.\n",
    "\n",
    "Take home point: The model does pretty predicting ladybugs that were not labeled on the same images that were partially labeled.  However not so good on the image which did not have any data labeled.  More training images are likely needed to get a good lady bug model... the good news is we probably don't have to label every single ladybug on all images, we can sparsely label several images to accelerate the process."
   ]
  },
  {
   "cell_type": "code",
   "execution_count": 3,
   "metadata": {},
   "outputs": [],
   "source": [
    "import os\n",
    "import numpy as np\n",
    "import napari\n",
    "from napari_easy_augment_batch_dl import easy_augment_batch_dl"
   ]
  },
  {
   "cell_type": "code",
   "execution_count": 4,
   "metadata": {},
   "outputs": [
    {
     "name": "stdout",
     "output_type": "stream",
     "text": [
      "No module named 'segment_everything'\n",
      "found class  StardistInstanceModel\n",
      "Loading network weights from 'weights_best.h5'.\n",
      "Couldn't load thresholds from 'thresholds.json', using default values. (Call 'optimize_thresholds' to change that.)\n",
      "Using default values: prob_thresh=0.5, nms_thresh=0.4.\n"
     ]
    }
   ],
   "source": [
    "\n",
    "viewer = napari.Viewer()\n",
    "\n",
    "batch_dl = easy_augment_batch_dl.NapariEasyAugmentBatchDL(viewer, label_only = False)\n",
    "\n",
    "viewer.window.add_dock_widget(\n",
    "    batch_dl\n",
    ")\n",
    "\n",
    "data_path = r'../../data'\n",
    "parent_path = os.path.join(data_path, 'ladybugs_sparse')\n",
    "model_path = os.path.join(parent_path, 'models')\n",
    "\n",
    "model_name = 'ladybug_sparse'\n",
    "model_type = \"Stardist Model\"\n",
    "batch_dl.load_image_directory(parent_path)\n",
    "\n",
    "\n",
    "if model_name is not None:\n",
    "    batch_dl.network_architecture_drop_down.setCurrentText(model_type)\n",
    "    batch_dl.deep_learning_project.set_pretrained_model(os.path.join(model_path, model_name), model_type)\n",
    "    widget = batch_dl.param_widgets[model_type]\n",
    "    widget.sync_with_model()\n",
    "\n",
    "\n",
    "\n"
   ]
  },
  {
   "cell_type": "code",
   "execution_count": null,
   "metadata": {},
   "outputs": [],
   "source": []
  }
 ],
 "metadata": {
  "kernelspec": {
   "display_name": "segment_bees_311",
   "language": "python",
   "name": "python3"
  },
  "language_info": {
   "codemirror_mode": {
    "name": "ipython",
    "version": 3
   },
   "file_extension": ".py",
   "mimetype": "text/x-python",
   "name": "python",
   "nbconvert_exporter": "python",
   "pygments_lexer": "ipython3",
   "version": "3.9.19"
  }
 },
 "nbformat": 4,
 "nbformat_minor": 2
}
