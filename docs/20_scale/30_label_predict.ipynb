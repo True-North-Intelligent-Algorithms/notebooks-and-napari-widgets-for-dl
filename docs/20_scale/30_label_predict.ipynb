{
 "cells": [
  {
   "cell_type": "markdown",
   "metadata": {},
   "source": [
    "## Label and Predict\n",
    " \n",
    "This notebook uses the ```napari-easy-augment-batch-dl``` widget to explore and label the data.  If we have a model trained we can also predict using that model. "
   ]
  },
  {
   "cell_type": "code",
   "execution_count": 3,
   "metadata": {},
   "outputs": [],
   "source": [
    "import os\n",
    "import numpy as np\n",
    "import napari\n",
    "from napari_easy_augment_batch_dl import easy_augment_batch_dl\n",
    "\n",
    "try:\n",
    "    from napari_easy_augment_batch_dl.frameworks.cellpose_instance_framework import CellPoseInstanceFramework\n",
    "except:\n",
    "    print('CellPoseInstanceFramework not loaded')"
   ]
  },
  {
   "cell_type": "code",
   "execution_count": 4,
   "metadata": {},
   "outputs": [
    {
     "name": "stdout",
     "output_type": "stream",
     "text": [
      "VIT checkpoint loaded successfully\n",
      "found framework is  MobileSAMFramework\n",
      "found framework is  YoloSAMFramework\n",
      "found framework is  RandomForestFramework\n",
      "found framework is  PytorchSemanticFramework\n",
      "found framework is  CellPoseInstanceFramework\n",
      "creating new log file\n",
      "2025-02-13 18:54:19,541 [INFO] WRITING LOG OUTPUT TO C:\\Users\\bnort\\.cellpose\\run.log\n",
      "2025-02-13 18:54:19,542 [INFO] \n",
      "cellpose version: \t3.1.0 \n",
      "platform:       \twin32 \n",
      "python version: \t3.10.14 \n",
      "torch version:  \t2.2.2+cu118\n",
      "Zarr store already up-to-date.\n",
      "Zarr store already up-to-date.\n",
      "2025-02-13 18:54:22,297 [INFO] ** TORCH CUDA version installed and working. **\n",
      "2025-02-13 18:54:22,298 [INFO] >>>> using GPU (CUDA)\n",
      "2025-02-13 18:54:22,420 [INFO] >>>> loading model ../../data\\ladybugs_series\\models\\cellpose_ladybugs_scale2\n",
      "2025-02-13 18:54:22,620 [INFO] >>>> model diam_mean =  30.000 (ROIs rescaled to this size during training)\n",
      "2025-02-13 18:54:22,622 [INFO] >>>> model diam_labels =  181.358 (mean diameter of training ROIs)\n",
      "'QCheckBox' object has no attribute 'setValue'\n"
     ]
    }
   ],
   "source": [
    "\n",
    "viewer = napari.Viewer()\n",
    "\n",
    "batch_dl = easy_augment_batch_dl.NapariEasyAugmentBatchDL(viewer, label_only = False)\n",
    "\n",
    "viewer.window.add_dock_widget(\n",
    "    batch_dl\n",
    ")\n",
    "\n",
    "data_path = r'../../data'\n",
    "parent_path = os.path.join(data_path, 'ladybugs_series')\n",
    "model_path = os.path.join(parent_path, 'models')\n",
    "\n",
    "model_name = 'cellpose_ladybugs_scale2'\n",
    "#mod = models.Cellpose(gpu=True, model_type=\"cyto3\")\n",
    "model_type = \"CellPose Instance Model\"\n",
    "batch_dl.load_image_directory(parent_path)\n",
    "\n",
    "\n",
    "if model_name is not None:\n",
    "\n",
    "    # set the drop down to the CellPoseInstanceFramework\n",
    "    batch_dl.network_architecture_drop_down.setCurrentText(CellPoseInstanceFramework.descriptor)\n",
    "    \n",
    "    # get the cellpose widget\n",
    "    widget = batch_dl.deep_learning_widgets[CellPoseInstanceFramework.descriptor]\n",
    "\n",
    "    # load model\n",
    "    widget.load_model_from_path(os.path.join(model_path, model_name))\n",
    "\n",
    "   # get the framework object\n",
    "    framework = batch_dl.deep_learning_project.frameworks[CellPoseInstanceFramework.descriptor]\n",
    "\n",
    "    # set the parameters for the cellpose framework\n",
    "    framework.prob_thresh = -1\n",
    "    framework.flow_thresh = 0.4\n",
    "    framework.chan_segment = 0 \n",
    "    framework.chan2 = 1\n",
    "\n",
    "    # sync parameters on the widget after this we should see the widget in Napari synced with the parameters we set on the framework\n",
    "    widget.sync_with_framework()\n"
   ]
  },
  {
   "cell_type": "code",
   "execution_count": null,
   "metadata": {},
   "outputs": [],
   "source": []
  }
 ],
 "metadata": {
  "kernelspec": {
   "display_name": "pytorch_and_SAM3",
   "language": "python",
   "name": "python3"
  },
  "language_info": {
   "codemirror_mode": {
    "name": "ipython",
    "version": 3
   },
   "file_extension": ".py",
   "mimetype": "text/x-python",
   "name": "python",
   "nbconvert_exporter": "python",
   "pygments_lexer": "ipython3",
   "version": "3.10.14"
  }
 },
 "nbformat": 4,
 "nbformat_minor": 2
}
