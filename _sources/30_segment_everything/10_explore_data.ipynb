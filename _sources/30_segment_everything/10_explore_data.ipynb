{
 "cells": [
  {
   "cell_type": "markdown",
   "metadata": {},
   "source": [
    "## Explore data with SAM\n",
    "\n",
    "In this example we once again use the ```napari-easy-augment-batch-dl``` plugin to view an image series.  This time we use the Mobile SAM option to test Mobile SAM on our lady bug images. "
   ]
  },
  {
   "cell_type": "code",
   "execution_count": 1,
   "metadata": {},
   "outputs": [],
   "source": [
    "from cellpose import models, io\n",
    "import os\n",
    "import numpy as np\n",
    "import napari"
   ]
  },
  {
   "cell_type": "code",
   "execution_count": 3,
   "metadata": {},
   "outputs": [
    {
     "name": "stdout",
     "output_type": "stream",
     "text": [
      "VIT checkpoint loaded successfully\n",
      "found class  PytorchSemanticModel\n",
      "found class  CellPoseInstanceModel\n",
      "creating new log file\n",
      "2024-10-28 09:59:34,839 [INFO] WRITING LOG OUTPUT TO C:\\Users\\bnort\\.cellpose\\run.log\n",
      "2024-10-28 09:59:34,840 [INFO] \n",
      "cellpose version: \t3.0.9 \n",
      "platform:       \twin32 \n",
      "python version: \t3.10.14 \n",
      "torch version:  \t2.2.2+cu118\n",
      "found class  MobileSAMModel\n",
      "found class  YoloSAMModel\n"
     ]
    }
   ],
   "source": [
    "from napari_easy_augment_batch_dl import easy_augment_batch_dl\n",
    "\n",
    "viewer = napari.Viewer()\n",
    "\n",
    "batch_dl = easy_augment_batch_dl.NapariEasyAugmentBatchDL(viewer, label_only = False)\n",
    "\n",
    "viewer.window.add_dock_widget(\n",
    "    batch_dl\n",
    ")\n",
    "\n",
    "data_path = r'../../data'\n",
    "parent_path = os.path.join(data_path, 'ladybugs_SAM')\n",
    "\n",
    "batch_dl.load_image_directory(parent_path)\n"
   ]
  },
  {
   "cell_type": "code",
   "execution_count": null,
   "metadata": {},
   "outputs": [],
   "source": []
  }
 ],
 "metadata": {
  "kernelspec": {
   "display_name": "pytorch_and_SAM3",
   "language": "python",
   "name": "python3"
  },
  "language_info": {
   "codemirror_mode": {
    "name": "ipython",
    "version": 3
   },
   "file_extension": ".py",
   "mimetype": "text/x-python",
   "name": "python",
   "nbconvert_exporter": "python",
   "pygments_lexer": "ipython3",
   "version": "3.10.14"
  }
 },
 "nbformat": 4,
 "nbformat_minor": 2
}
